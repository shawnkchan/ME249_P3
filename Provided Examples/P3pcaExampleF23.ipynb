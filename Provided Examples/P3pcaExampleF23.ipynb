{
 "cells": [
  {
   "cell_type": "code",
   "execution_count": 1,
   "id": "considerable-aside",
   "metadata": {},
   "outputs": [],
   "source": [
    "#P3pcaExampleF23\n",
    "#PCA example\n",
    "import numpy as np\n",
    "from numpy import linalg as LA\n",
    "import tensorflow as tf\n"
   ]
  },
  {
   "cell_type": "code",
   "execution_count": 2,
   "id": "nominated-integral",
   "metadata": {},
   "outputs": [
    {
     "name": "stdout",
     "output_type": "stream",
     "text": [
      "[[7 4 3]\n",
      " [4 1 8]\n",
      " [6 3 5]\n",
      " [8 6 1]\n",
      " [8 5 7]\n",
      " [7 2 9]\n",
      " [5 3 3]\n",
      " [9 5 8]\n",
      " [7 4 5]\n",
      " [8 2 2]]\n",
      "[[7 4 6 8 8 7 5 9 7 8]\n",
      " [4 1 3 6 5 2 3 5 4 2]\n",
      " [3 8 5 1 7 9 3 8 5 2]]\n",
      "[6.9 3.5 5.1]\n"
     ]
    }
   ],
   "source": [
    "\n",
    "X = np.array([[7,4,3],[4,1,8],[6,3,5],[8,6,1],[8,5,7],[7,2,9],[5,3,3],[9,5,8],[7,4,5],[8,2,2]])#define array\n",
    "print (X)\n",
    "print (X.T)  #print the transpose\n",
    "Xmean = np.mean(X,0)  # compute mean vector\n",
    "print (Xmean)"
   ]
  },
  {
   "cell_type": "code",
   "execution_count": 3,
   "id": "sixth-final",
   "metadata": {},
   "outputs": [
    {
     "name": "stdout",
     "output_type": "stream",
     "text": [
      "[[ 2.32222222  1.61111111 -0.43333333]\n",
      " [ 1.61111111  2.5        -1.27777778]\n",
      " [-0.43333333 -1.27777778  7.87777778]]\n"
     ]
    }
   ],
   "source": [
    "C = np.cov(X.T)  #transpose is matrix we want to work with - compute covariance matrix\n",
    "print (C)"
   ]
  },
  {
   "cell_type": "code",
   "execution_count": 24,
   "id": "ready-layout",
   "metadata": {},
   "outputs": [
    {
     "name": "stdout",
     "output_type": "stream",
     "text": [
      "[0.74992815 3.67612927 8.27394258]\n",
      "[[-0.70172743  0.69903712 -0.1375708 ]\n",
      " [ 0.70745703  0.66088917 -0.25045969]\n",
      " [ 0.08416157  0.27307986  0.95830278]]\n"
     ]
    }
   ],
   "source": [
    "w, v = LA.eig(C)  # get the eigenvalues w and the eigenvectors \n",
    "print (w)\n",
    "print (v)"
   ]
  },
  {
   "cell_type": "code",
   "execution_count": 26,
   "id": "fundamental-vietnam",
   "metadata": {},
   "outputs": [
    {
     "name": "stdout",
     "output_type": "stream",
     "text": [
      "[[-0.1375708  -0.25045969  0.95830278]\n",
      " [ 0.69903712  0.66088917  0.27307986]]\n"
     ]
    }
   ],
   "source": [
    "A  = np.array([v[:,2],v[:,1]])  # form the transformation matrix using eigenvectors\n",
    "# for the top two eigenvalues\n",
    "print(A)"
   ]
  },
  {
   "cell_type": "code",
   "execution_count": 27,
   "id": "confirmed-destiny",
   "metadata": {},
   "outputs": [
    {
     "name": "stdout",
     "output_type": "stream",
     "text": [
      "[[-2.15142276  3.80418259  0.15321328 -4.7065185   1.29375788  4.0993133\n",
      "  -1.62582148  2.11448986 -0.2348172  -2.74637697]\n",
      " [-0.17311941 -2.88749898 -0.98688598  1.30153634  2.27912632  0.1435814\n",
      "  -2.23208282  3.2512433   0.37304031 -1.06894049]]\n"
     ]
    }
   ],
   "source": [
    "Y = np.matmul(A,(X-Xmean).T) # Apply transformation to obtain new   \n",
    "                             # data representation in 2-D\n",
    "print(Y)"
   ]
  },
  {
   "cell_type": "code",
   "execution_count": 30,
   "id": "guilty-villa",
   "metadata": {},
   "outputs": [
    {
     "name": "stdout",
     "output_type": "stream",
     "text": [
      "[[7.07495606 3.92443193 2.99101016]\n",
      " [4.35818659 0.63888882 7.95704095]\n",
      " [6.18905239 2.80940399 4.97732603]\n",
      " [8.45730172 5.53896441 0.94515359]\n",
      " [8.31521059 4.68221571 6.96219527]\n",
      " [6.43642293 2.56817868 9.06759253]\n",
      " [5.56335682 2.43204338 2.93243389]\n",
      " [8.88184769 5.11911702 8.01417058]\n",
      " [7.19307301 3.80535054 4.97684382]\n",
      " [6.53059219 3.48140552 2.17623319]]\n"
     ]
    }
   ],
   "source": [
    "xhat = np.matmul(A.T,Y).T + Xmean  #recover the original data using the inverse transform\n",
    "print(xhat)"
   ]
  },
  {
   "cell_type": "code",
   "execution_count": 31,
   "id": "internal-effort",
   "metadata": {},
   "outputs": [
    {
     "name": "stdout",
     "output_type": "stream",
     "text": [
      "0.6749353375153229\n"
     ]
    }
   ],
   "source": [
    "mse = np.sum((X - xhat)**2)/10  #mean squared error\n",
    "print(mse)"
   ]
  },
  {
   "cell_type": "code",
   "execution_count": null,
   "id": "compound-summary",
   "metadata": {},
   "outputs": [],
   "source": []
  }
 ],
 "metadata": {
  "kernelspec": {
   "display_name": "Python 3 (ipykernel)",
   "language": "python",
   "name": "python3"
  },
  "language_info": {
   "codemirror_mode": {
    "name": "ipython",
    "version": 3
   },
   "file_extension": ".py",
   "mimetype": "text/x-python",
   "name": "python",
   "nbconvert_exporter": "python",
   "pygments_lexer": "ipython3",
   "version": "3.7.16"
  }
 },
 "nbformat": 4,
 "nbformat_minor": 5
}
