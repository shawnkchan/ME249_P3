{
 "cells": [
  {
   "cell_type": "code",
   "execution_count": 1,
   "id": "mechanical-incidence",
   "metadata": {},
   "outputs": [],
   "source": [
    "import math, numpy\n",
    "\n",
    "#Part 1 input HI FLUX DATA: Air temp (degC), ID (W/sqm), load resistance (ohms)\n",
    "\n",
    "xdata = [[-10.0, 1550, 4.464],  \n",
    "  [-10.0, 1850, 4.464], \n",
    "  [10.0, 1550, 4.464], \n",
    "  [10.0, 1850, 4.464], \n",
    "  [30.0, 1550, 4.464], \n",
    "  [30.0, 1850, 4.464], \n",
    "  [-10.0, 1550, 6.696], \n",
    "  [-10.0, 1850, 6.696], \n",
    "  [10.0, 1550, 6.695], \n",
    "  [10.0, 1850, 6.696], \n",
    "  [30.0, 1550, 6.696], \n",
    "  [30.0, 1850, 6.696], \n",
    "  [-10.0, 1550, 8.928], \n",
    "  [-10.0, 1850, 8.928],   \n",
    "  [10.0, 1550, 8.928], \n",
    "  [10.0, 1850, 8.928], \n",
    "  [30.0, 1550, 8.928], \n",
    "  [30.0, 1850, 8.928]]\n",
    " \n",
    "#Part 1 output HI FLUX DATA: load voltage (V) and Power out (W)\n",
    "ydata = [[26.1, 152.8], \n",
    " [26.5, 172.7], \n",
    " [27.9, 191.4], \n",
    " [28.3, 198.0], \n",
    " [29.6, 217.8], \n",
    " [30.1, 224.4],  \n",
    " [26.9, 118.8], \n",
    " [27.2, 122.1], \n",
    " [28.8, 136.4], \n",
    " [29.1, 139.6], \n",
    " [30.6, 154.0], \n",
    " [31.0, 158.4],  \n",
    " [27.3, 92.4], \n",
    " [27.6, 94.6], \n",
    " [29.2, 105.6], \n",
    " [29.6, 107.8], \n",
    " [31.1, 119.9], \n",
    " [31.5, 123.2]]\n",
    "\n",
    "\n",
    "xarray= numpy.array(xdata)\n",
    "yarray= numpy.array(ydata)"
   ]
  },
  {
   "cell_type": "code",
   "execution_count": 6,
   "id": "united-trinidad",
   "metadata": {},
   "outputs": [],
   "source": [
    "import pandas as pd\n",
    "\n",
    "x_df = pd.DataFrame(xarray, columns=['air_temp', 'load_resistance', 'i_d'])\n",
    "y_df = pd.DataFrame(yarray, columns=['output_voltage', 'power_output'])"
   ]
  },
  {
   "cell_type": "code",
   "execution_count": 7,
   "id": "ca338f06",
   "metadata": {},
   "outputs": [],
   "source": [
    "data_df = pd.merge(x_df, y_df, left_index=True, right_index=True)\n",
    "data_df.to_csv('task1.12_g_data.csv', index=False)"
   ]
  },
  {
   "cell_type": "code",
   "execution_count": null,
   "id": "a5056392",
   "metadata": {},
   "outputs": [],
   "source": []
  }
 ],
 "metadata": {
  "kernelspec": {
   "display_name": "Python 3 (ipykernel)",
   "language": "python",
   "name": "python3"
  },
  "language_info": {
   "codemirror_mode": {
    "name": "ipython",
    "version": 3
   },
   "file_extension": ".py",
   "mimetype": "text/x-python",
   "name": "python",
   "nbconvert_exporter": "python",
   "pygments_lexer": "ipython3",
   "version": "3.7.16"
  }
 },
 "nbformat": 4,
 "nbformat_minor": 5
}
